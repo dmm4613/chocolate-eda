A look at chocolate bars


# import libraries to help with discovery and visualization
import pandas as pd
import numpy as np
import matplotlib as mpl
import matplotlib.pyplot as plt
import seaborn as sns


cacao = pd.read_csv("data/flavors_of_cacao.csv", index_col=0)
cacao.info()


cacao.describe()


cacao.head()


# remove the \n from the column names

columns = ['Specific Bean Origin\nor Bar Name', 'Review\nDate', 'Cocoa\nPercent', 'Company\nLocation', 'Bean\nType', 'Broad Bean\nOrigin'] 
cacao.columns = cacao.columns.str.replace('\n', ' ')


cacao.head(5)


cacao['Specific Bean Origin or Bar Name'].value_counts()
